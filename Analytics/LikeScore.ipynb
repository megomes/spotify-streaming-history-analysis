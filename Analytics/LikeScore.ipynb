{
 "cells": [
  {
   "cell_type": "code",
   "execution_count": 2,
   "id": "df428e6b",
   "metadata": {},
   "outputs": [],
   "source": [
    "import json\n",
    "from tqdm.notebook import tqdm\n",
    "import psycopg2\n",
    "import psycopg2.extras\n",
    "from pprint import pprint\n",
    "import datetime\n",
    "from numpy import interp\n",
    "import matplotlib.pyplot as plt"
   ]
  },
  {
   "cell_type": "code",
   "execution_count": 3,
   "id": "86e24bde",
   "metadata": {},
   "outputs": [],
   "source": [
    "conn = psycopg2.connect(user='postgres', database=\"postgres\", password='password', host='localhost', port='5432')\n",
    "cursor = conn.cursor(cursor_factory=psycopg2.extras.DictCursor)"
   ]
  },
  {
   "cell_type": "code",
   "execution_count": 4,
   "id": "4231bfb2",
   "metadata": {},
   "outputs": [],
   "source": [
    "cursor.execute('SELECT DISTINCT music_id FROM play')"
   ]
  },
  {
   "cell_type": "code",
   "execution_count": 5,
   "id": "9c5ca971",
   "metadata": {},
   "outputs": [],
   "source": [
    "results = cursor.fetchall()\n",
    "colnames = [desc[0] for desc in cursor.description]"
   ]
  },
  {
   "cell_type": "code",
   "execution_count": 6,
   "id": "2e08995f",
   "metadata": {},
   "outputs": [],
   "source": [
    "def resultAsDict(result, colnames):\n",
    "    d = {}\n",
    "    for col in colnames:\n",
    "        d[col] = result[colnames.index(col)]\n",
    "    return d"
   ]
  },
  {
   "cell_type": "code",
   "execution_count": 7,
   "id": "ef2aa681",
   "metadata": {},
   "outputs": [
    {
     "data": {
      "application/vnd.jupyter.widget-view+json": {
       "model_id": "373681e1123a41638e8ed916d0fda793",
       "version_major": 2,
       "version_minor": 0
      },
      "text/plain": [
       "  0%|          | 0/7841 [00:00<?, ?it/s]"
      ]
     },
     "metadata": {},
     "output_type": "display_data"
    }
   ],
   "source": [
    "musics = {}\n",
    "for result in tqdm(results):\n",
    "    music_id = result[0]\n",
    "    musics[music_id] = {}\n",
    "    cursor.execute('SELECT * FROM play WHERE music_id = ' + str(music_id))\n",
    "    colnames = [desc[0] for desc in cursor.description]\n",
    "    results_plays = cursor.fetchall()\n",
    "    musics[music_id]['plays'] = []\n",
    "    for p in results_plays:\n",
    "        play = resultAsDict(p, colnames)\n",
    "        musics[music_id]['plays'].append(play)\n",
    "    cursor.execute('SELECT * FROM music WHERE music_id = ' + str(music_id))\n",
    "    colnames = [desc[0] for desc in cursor.description]\n",
    "    musics[music_id]['info'] = resultAsDict(cursor.fetchone(), colnames)"
   ]
  },
  {
   "cell_type": "code",
   "execution_count": 8,
   "id": "a4af7c98",
   "metadata": {},
   "outputs": [],
   "source": [
    "favorites = {}\n",
    "cursor.execute('SELECT music_id FROM favorite')\n",
    "results = cursor.fetchall()\n",
    "for result in results:\n",
    "    if result[0] not in favorites:\n",
    "        favorites[result[0]] = 0\n",
    "    favorites[result[0]] += 1"
   ]
  },
  {
   "cell_type": "code",
   "execution_count": 9,
   "id": "717d8b6b",
   "metadata": {},
   "outputs": [],
   "source": [
    "cursor.execute('SELECT * FROM music_artist')\n",
    "results = cursor.fetchall()\n",
    "colnames = [desc[0] for desc in cursor.description]"
   ]
  },
  {
   "cell_type": "code",
   "execution_count": 10,
   "id": "ece4dc6a",
   "metadata": {},
   "outputs": [
    {
     "data": {
      "application/vnd.jupyter.widget-view+json": {
       "model_id": "fcfb717bbfb04d46aca03cfe7bb7e17a",
       "version_major": 2,
       "version_minor": 0
      },
      "text/plain": [
       "  0%|          | 0/1127195 [00:00<?, ?it/s]"
      ]
     },
     "metadata": {},
     "output_type": "display_data"
    }
   ],
   "source": [
    "artists = {}\n",
    "for result in tqdm(results):\n",
    "    music = result[colnames.index('music_id')]\n",
    "    if music not in musics:\n",
    "        continue\n",
    "    artist = result[colnames.index('artist_id')]\n",
    "    if 'artists' not in musics[music]:\n",
    "        musics[music]['artists'] = []\n",
    "    if artist not in musics[music]['artists']:\n",
    "        musics[music]['artists'].append(artist)\n",
    "    \n",
    "    if artist not in artists:\n",
    "        artists[artist] = []\n",
    "    if music not in artists[artist]:\n",
    "        artists[artist].append(music)"
   ]
  },
  {
   "cell_type": "markdown",
   "id": "cfad0d3a",
   "metadata": {},
   "source": [
    "# Like Score Variables\n",
    "\n",
    "- `repeat` = Número de Vezes que a música foi reproduzida\n",
    "- `month_avg` = Quantas vezes por mês eu ouvi essa música? Durante o período em que eu ouvia\n",
    "- `month_avg_alltime` = Quantas vezes por mês eu ouvi essa música? Desde o tempo que eu ouvi pela primeira vez\n",
    "- `number_months` = Quantos meses eu fiquei ouvindo essa música\n",
    "- `last` = Número de dias desde que eu ouvi a música pela última vez\n",
    "- `favorites` = Número de vezes que ela foi adicionada nas playlists favoritas\n",
    "- `artists_songs` = Número de Músicas do mesmo artista que ouvi (Músicas com apenas 1 artista)\n",
    "- `track_done` = Número de vezes que a música foi reproduzida até o fim\n",
    "- `skipped` = Número de vezes que eu pulei a música\n",
    "- `replayed` = Número de Vezes que a música foi instantaneamente reprisada\n",
    "- `duration_avr_total` = Tempo Médio que eu passei ouvindo a música em cada reprodução (% do total da música)"
   ]
  },
  {
   "cell_type": "code",
   "execution_count": 11,
   "id": "3f68e568",
   "metadata": {
    "scrolled": false
   },
   "outputs": [
    {
     "data": {
      "application/vnd.jupyter.widget-view+json": {
       "model_id": "b52a5216f0d641ea9e8cbfc6cf8069ff",
       "version_major": 2,
       "version_minor": 0
      },
      "text/plain": [
       "  0%|          | 0/7841 [00:00<?, ?it/s]"
      ]
     },
     "metadata": {},
     "output_type": "display_data"
    }
   ],
   "source": [
    "#Exported date today\n",
    "today = datetime.date(2021,7,3)\n",
    "for music in tqdm(musics):\n",
    "    musics[music]['variables'] = {}\n",
    "    \n",
    "    # repeat\n",
    "    musics[music]['variables']['repeat'] = len(musics[music]['plays'])\n",
    "    \n",
    "    # month_avg\n",
    "    meses = {}\n",
    "    for play in musics[music]['plays']:\n",
    "        date = play['end_time']\n",
    "        if str(date.year) + '-' + str(date.month) not in meses:\n",
    "            meses[str(date.year) + '-' + str(date.month)] = 0\n",
    "        meses[str(date.year) + '-' + str(date.month)] += 1\n",
    "    musics[music]['variables']['month_avg'] = sum(meses.values()) / float(len(meses))\n",
    "    \n",
    "    # number_months\n",
    "    musics[music]['variables']['number_months'] = len(meses)\n",
    "    \n",
    "    # month_avg_alltime\n",
    "    first_time = musics[music]['plays'][0]['end_time']\n",
    "    for play in musics[music]['plays']:\n",
    "        date = play['end_time']\n",
    "        if date < first_time:\n",
    "            first_time = date\n",
    "    for ano in range(first_time.year, today.year + 1):\n",
    "        max_mes = 12\n",
    "        min_mes = 1\n",
    "        if ano == first_time.year:\n",
    "            min_mes = first_time.month\n",
    "        elif ano == today.year:\n",
    "            max_mes = today.month\n",
    "\n",
    "        for mes in range(min_mes, max_mes + 1):\n",
    "            keyd = str(ano) + '-' + str(mes)\n",
    "            if keyd not in meses:\n",
    "                meses[keyd] = 0\n",
    "            \n",
    "    musics[music]['variables']['month_avg_alltime'] = sum(meses.values()) / float(len(meses))\n",
    "    \n",
    "    # last\n",
    "    last_time = musics[music]['plays'][0]['end_time']\n",
    "    for play in musics[music]['plays']:\n",
    "        date = play['end_time']\n",
    "        if date > first_time:\n",
    "            last_time = date\n",
    "            \n",
    "    last = today - datetime.date(last_time.year, last_time.month, last_time.day)\n",
    "    musics[music]['variables']['last'] = -last.days\n",
    "    \n",
    "    # favorites\n",
    "    musics[music]['variables']['favorites'] = favorites.get(music, 0)\n",
    "    \n",
    "    # artists_songs\n",
    "    artists_songs = []\n",
    "    if len(musics[music]['artists']) == 1:\n",
    "        artists_songs.extend(artists[musics[music]['artists'][0]])\n",
    "    artists_songs = list(set(artists_songs))\n",
    "    musics[music]['variables']['artists_songs'] = len(artists_songs)\n",
    "    \n",
    "    # track_done & skipped & replayed\n",
    "    track_done = 0\n",
    "    skipped = 0\n",
    "    replayed = 0\n",
    "    for play in musics[music]['plays']:\n",
    "        if play['reason_end'] == 'fwdbtn':\n",
    "            skipped += 1\n",
    "        if play['reason_end'] == 'trackdone' or play['reason_end'] == 'endplay':\n",
    "            track_done += 1\n",
    "        if play['reason_start'] == 'backbtn':\n",
    "            replayed += 1\n",
    "    \n",
    "    musics[music]['variables']['track_done'] = track_done\n",
    "    musics[music]['variables']['skipped'] = -skipped\n",
    "    musics[music]['variables']['replayed'] = replayed\n",
    "    \n",
    "    # duration_avr\n",
    "    music_duration = musics[music]['info']['duration_ms']\n",
    "    total_duration = 0\n",
    "    for play in musics[music]['plays']:\n",
    "        if play['ms_played'] > music_duration:\n",
    "            total_duration += music_duration\n",
    "            continue\n",
    "        total_duration += play['ms_played']\n",
    "    duration_avg = total_duration / float(len(musics[music]['plays']))\n",
    "    musics[music]['variables']['duration_avr_total'] = duration_avg * 100 / music_duration\n",
    "#     pprint(musics[music])\n",
    "#     break"
   ]
  },
  {
   "cell_type": "code",
   "execution_count": 12,
   "id": "7a547a57",
   "metadata": {
    "scrolled": true
   },
   "outputs": [
    {
     "name": "stdout",
     "output_type": "stream",
     "text": [
      "\n",
      "repeat\n",
      "\tOn prend des notes (559): 111\n",
      "\tCapsize (253): 102\n",
      "\t2 Heads (23): 101\n",
      "\tÁ nos folies (129): 98\n",
      "\tNew Rules (171): 96\n",
      "\tWherever I Go (163): 90\n",
      "\tFeeling Good (807): 89\n",
      "\tFRIENDS (43): 88\n",
      "\tDance Monkey (520): 87\n",
      "\tBare (227): 83\n",
      "\n",
      "month_avg\n",
      "\tOld Town Road (feat. Billy Ray Cyrus) - Remix (273): 14.5\n",
      "\tBirthday Suit (1387): 13.0\n",
      "\tDown In The Dirt (1021): 13.0\n",
      "\tStay (feat. Gaby Henshaw) (1570): 10.0\n",
      "\tBeliever (381): 10.0\n",
      "\tChained To The Rhythm (903): 10.0\n",
      "\tExperience (2264): 10.0\n",
      "\tVagabundo Também Ama / Vida Longa Mundo Pequeno - Acústico (398): 9.5\n",
      "\tgood 4 u (2970): 9.0\n",
      "\tNo Roots (2369): 9.0\n",
      "\n",
      "number_months\n",
      "\tThis Is What You Came For (feat. Rihanna) (130): 31\n",
      "\t2 Heads (23): 30\n",
      "\tCapsize (253): 30\n",
      "\tStressed Out (530): 29\n",
      "\tFeeling Good (807): 28\n",
      "\tSomething to Believe In (321): 28\n",
      "\tEx's & Oh's (274): 27\n",
      "\tSugar (105): 27\n",
      "\t7 Years (386): 26\n",
      "\ti hate u, i love u (feat. olivia o'brien) (541): 26\n",
      "\n",
      "month_avg_alltime\n",
      "\tParis (73): 8.11111111111111\n",
      "\tExorcism (435): 7.444444444444445\n",
      "\tFalse Confidence (485): 6.777777777777778\n",
      "\tSmokestacks (777): 6.555555555555555\n",
      "\tRousseau - EP Version (284): 5.777777777777778\n",
      "\tWhere We Come Alive (297): 5.333333333333333\n",
      "\tKeep Your Head Up (787): 5.222222222222222\n",
      "\tOn prend des notes (559): 5.045454545454546\n",
      "\tStreets Bloom (764): 4.777777777777778\n",
      "\tHappiest Man on Earth (106): 4.666666666666667\n",
      "\n",
      "last\n",
      "\tAfter Rain (6331): 0\n",
      "\tI'll Be out Here (6818): 0\n",
      "\tWho You Lovin (2413): 0\n",
      "\tgood 4 u (1400): 0\n",
      "\tNightflyer (1031): 0\n",
      "\tIOWA (4406): 0\n",
      "\treverie (5503): 0\n",
      "\tOnly Love (5803): 0\n",
      "\tBones (4434): 0\n",
      "\tlittle light - acoustic version (4129): 0\n",
      "\n",
      "favorites\n",
      "\tWherever I Go (163): 3\n",
      "\tCapsize (253): 3\n",
      "\tHey Now (176): 2\n",
      "\tStreets Bloom (764): 2\n",
      "\tIntro (3890): 2\n",
      "\tGotta Love It (264): 2\n",
      "\tLibrary Magic (1141): 2\n",
      "\t1000 Nights (247): 2\n",
      "\tStrong (75): 2\n",
      "\tWildest Dreams (1173): 2\n",
      "\n",
      "artists_songs\n",
      "\tCheap Thrills (1182): 63\n",
      "\tChandelier (808): 63\n",
      "\tNever Give Up (1682): 63\n",
      "\tMove Your Body - Single Mix (1012): 63\n",
      "\tCheap Thrills (6267): 63\n",
      "\tBreathe Me (1136): 63\n",
      "\tCheap Thrills (6980): 63\n",
      "\tCalifornia Dreamin' (1684): 63\n",
      "\tBig Girls Cry (2346): 63\n",
      "\tBird Set Free (880): 63\n",
      "\n",
      "track_done\n",
      "\tOn prend des notes (559): 81\n",
      "\tÁ nos folies (129): 73\n",
      "\t2 Heads (23): 67\n",
      "\tNew Rules (171): 62\n",
      "\tFRIENDS (43): 61\n",
      "\tWherever I Go (163): 57\n",
      "\tDance Monkey (520): 57\n",
      "\tLouquinho (383): 56\n",
      "\tÀ peu près (31): 54\n",
      "\tHey Now (176): 53\n",
      "\n",
      "skipped\n",
      "\tSvalbard (3936): 0\n",
      "\tLike I Do (4326): 0\n",
      "\tbreathin (4321): 0\n",
      "\tBurn It Down (1750): 0\n",
      "\tSnuff (576): 0\n",
      "\tStumble (2784): 0\n",
      "\tHands (5001): 0\n",
      "\tRun Run Run (feat. John Legend) (5038): 0\n",
      "\tOmen (2204): 0\n",
      "\tTranquility Lane (1268): 0\n",
      "\n",
      "replayed\n",
      "\tCrazy (428): 11\n",
      "\tChanging (292): 10\n",
      "\tGetaway (488): 9\n",
      "\tCheck It Out (69): 9\n",
      "\tDusk Till Dawn - Radio Edit (210): 9\n",
      "\tLet's Stop Calling It Love (51): 9\n",
      "\tFRIENDS (43): 9\n",
      "\tMic Drop (316): 8\n",
      "\tWe Don't Care (361): 8\n",
      "\tNumb (feat. Johnning) (715): 8\n",
      "\n",
      "duration_avr_total\n",
      "\tSvalbard (3936): 100.0\n",
      "\tRun Run Run (feat. John Legend) (5038): 100.0\n",
      "\tTranquility Lane (1268): 100.0\n",
      "\tStop This Song (Love Sick Melody) (7499): 100.0\n",
      "\tFirst Date (1595): 100.0\n",
      "\tFind You (2990): 100.0\n",
      "\tNow It's Over. Now I'm Awake. (6127): 100.0\n",
      "\tTeam (2543): 100.0\n",
      "\tWho Am I (6258): 100.0\n",
      "\tUm Minuto para o Fim do Mundo - Ao Vivo (4078): 100.0\n"
     ]
    }
   ],
   "source": [
    "variables = list(musics[list(musics.keys())[0]]['variables'].keys())\n",
    "for variable in variables:\n",
    "    print('\\n' + variable)\n",
    "    d = {}\n",
    "    for music in musics:\n",
    "        d[musics[music]['info']['name'] + ' (' + str(musics[music]['info']['music_id']) + ')'] = musics[music]['variables'][variable]\n",
    "    d_sorted = dict(sorted(d.items(), key=lambda item: item[1], reverse=True))\n",
    "    for i in list(d_sorted.keys())[:10]:\n",
    "        print('\\t' + i + ': ' + str(d_sorted[i]))"
   ]
  },
  {
   "cell_type": "markdown",
   "id": "31bb19a3",
   "metadata": {},
   "source": [
    "# Like Score Formula"
   ]
  },
  {
   "cell_type": "code",
   "execution_count": 13,
   "id": "bbbfb50e",
   "metadata": {},
   "outputs": [],
   "source": [
    "variables = list(musics[list(musics.keys())[0]]['variables'].keys())\n",
    "variables_max = {}\n",
    "variables_min = {}\n",
    "for variable in variables:\n",
    "    d = {}\n",
    "    for music in musics:\n",
    "        d[musics[music]['info']['name'] + ' (' + str(musics[music]['info']['music_id']) + ')'] = musics[music]['variables'][variable]\n",
    "    d_sorted = dict(sorted(d.items(), key=lambda item: item[1], reverse=True))\n",
    "    variables_max[variable] = d_sorted[list(d_sorted.keys())[0]]\n",
    "    variables_min[variable] = d_sorted[list(d_sorted.keys())[-1]]"
   ]
  },
  {
   "cell_type": "code",
   "execution_count": 14,
   "id": "07c0a4f5",
   "metadata": {},
   "outputs": [
    {
     "data": {
      "text/plain": [
       "{'repeat': 1,\n",
       " 'month_avg': 1.0,\n",
       " 'number_months': 1,\n",
       " 'month_avg_alltime': 0.014285714285714285,\n",
       " 'last': -2083,\n",
       " 'favorites': 0,\n",
       " 'artists_songs': 0,\n",
       " 'track_done': 0,\n",
       " 'skipped': -39,\n",
       " 'replayed': 0,\n",
       " 'duration_avr_total': 0.0}"
      ]
     },
     "execution_count": 14,
     "metadata": {},
     "output_type": "execute_result"
    }
   ],
   "source": [
    "variables_min"
   ]
  },
  {
   "cell_type": "code",
   "execution_count": 15,
   "id": "7d7ef4b6",
   "metadata": {},
   "outputs": [
    {
     "data": {
      "text/plain": [
       "{'repeat': 111,\n",
       " 'month_avg': 14.5,\n",
       " 'number_months': 31,\n",
       " 'month_avg_alltime': 8.11111111111111,\n",
       " 'last': 0,\n",
       " 'favorites': 3,\n",
       " 'artists_songs': 63,\n",
       " 'track_done': 81,\n",
       " 'skipped': 0,\n",
       " 'replayed': 11,\n",
       " 'duration_avr_total': 100.0}"
      ]
     },
     "execution_count": 15,
     "metadata": {},
     "output_type": "execute_result"
    }
   ],
   "source": [
    "variables_max"
   ]
  },
  {
   "cell_type": "code",
   "execution_count": 17,
   "id": "fbf9f56d",
   "metadata": {},
   "outputs": [],
   "source": [
    "# Defina o peso para cada uma das variáveis\n",
    "pesos = {\n",
    "    'repeat': 2,\n",
    "    'month_avg': 2,\n",
    "    'number_months': 2,\n",
    "    'month_avg_alltime': 3,\n",
    "    'last': 5,\n",
    "    'favorites': 5,\n",
    "    'artists_songs': 5,\n",
    "    'track_done': 7,\n",
    "    'skipped': 4,\n",
    "    'replayed': 10,\n",
    "    'duration_avr_total': 3,\n",
    "}\n",
    "ok = True\n",
    "for var in variables:\n",
    "    if var not in pesos:\n",
    "        ok = False\n",
    "        break\n",
    "\n",
    "if not ok:\n",
    "    print('Você esqueceu de definir peso em alguma das variáveis. Tenta copiar essa mensagem aqui:')\n",
    "    print('pesos = {')\n",
    "    for var in variables:\n",
    "        if var not in pesos:\n",
    "            print('    \\'' + var + '\\': 0, #<=== Esqueceu essa')\n",
    "        else:\n",
    "            print('    \\'' + var + '\\': ' + str(pesos[var]) + ',')\n",
    "    print('}')"
   ]
  },
  {
   "cell_type": "code",
   "execution_count": null,
   "id": "e7ea8f51",
   "metadata": {},
   "outputs": [],
   "source": []
  },
  {
   "cell_type": "code",
   "execution_count": 18,
   "id": "f7ab538d",
   "metadata": {},
   "outputs": [],
   "source": [
    "musics_score = {}\n",
    "max_value = 0\n",
    "for music in musics:\n",
    "    like_score = 0\n",
    "    for variable in variables:\n",
    "        raw = musics[music]['variables'][variable]\n",
    "        normalized = interp(raw,[variables_min[variable],variables_max[variable]],[0,1])\n",
    "        like_score += pesos[variable] * normalized\n",
    "#         print(pesos[variable])\n",
    "    like_score = like_score / sum(pesos.values())\n",
    "    if like_score > max_value:\n",
    "        max_value = like_score\n",
    "    musics[music]['like_score'] = like_score\n",
    "    musics_score[musics[music]['info']['name'] + ' (' + str(musics[music]['info']['music_id']) + ')'] = like_score"
   ]
  },
  {
   "cell_type": "code",
   "execution_count": 19,
   "id": "041a4e31",
   "metadata": {},
   "outputs": [],
   "source": [
    "fit_value = 1 / max_value\n",
    "average = 0\n",
    "for music in musics:\n",
    "    val = musics[music]['like_score']\n",
    "    musics[music]['like_score'] = val * fit_value\n",
    "    average += val * fit_value\n",
    "    musics_score[musics[music]['info']['name'] + ' (' + str(musics[music]['info']['music_id']) + ')'] = val * fit_value\n",
    "average = average / float(len(musics))"
   ]
  },
  {
   "cell_type": "code",
   "execution_count": 20,
   "id": "d9857c5c",
   "metadata": {},
   "outputs": [
    {
     "name": "stdout",
     "output_type": "stream",
     "text": [
      "\tOn prend des notes (559): 1.0\n",
      "\tÁ nos folies (129): 0.9672863689494346\n",
      "\tFRIENDS (43): 0.8994036383467653\n",
      "\tChanging (292): 0.8208902982922096\n",
      "\tExorcism (435): 0.8183174875236425\n",
      "\tWherever I Go (163): 0.8128598821047716\n",
      "\tDance Monkey (520): 0.779947305706358\n",
      "\tÀ peu près (31): 0.7774422071096757\n",
      "\tHey Now (176): 0.7477221005105101\n",
      "\tDusk Till Dawn - Radio Edit (210): 0.7457615855796061\n"
     ]
    }
   ],
   "source": [
    "musics_score_sorted = dict(sorted(musics_score.items(), key=lambda item: item[1], reverse=True))\n",
    "for i in list(musics_score_sorted.keys())[:10]:\n",
    "        print('\\t' + i + ': ' + str(musics_score_sorted[i]))"
   ]
  },
  {
   "cell_type": "code",
   "execution_count": 21,
   "id": "097cb813",
   "metadata": {
    "scrolled": true
   },
   "outputs": [
    {
     "name": "stdout",
     "output_type": "stream",
     "text": [
      "2849 values above Average (0.2825907196525052)\n"
     ]
    },
    {
     "data": {
      "image/png": "[encoded data removed]",
      "text/plain": [
       "<Figure size 432x288 with 1 Axes>"
      ]
     },
     "metadata": {
      "needs_background": "light"
     },
     "output_type": "display_data"
    }
   ],
   "source": [
    "_ = plt.hist(musics_score_sorted.values(), bins='auto')\n",
    "print(str(len([1 for i in musics_score_sorted.values() if i > 0.3])) + ' values above Average (' + str(average) + ')')"
   ]
  },
  {
   "cell_type": "code",
   "execution_count": 25,
   "id": "b19b9dd2",
   "metadata": {},
   "outputs": [
    {
     "name": "stdout",
     "output_type": "stream",
     "text": [
      "3702 values above Average (0.2825907196525052)\n"
     ]
    }
   ],
   "source": [
    "print(str(len([1 for i in musics_score_sorted.values() if i > 0.28])) + ' values above Average (' + str(average) + ')')"
   ]
  },
  {
   "cell_type": "code",
   "execution_count": 196,
   "id": "de5fe5b0",
   "metadata": {},
   "outputs": [],
   "source": [
    "for music in musics:\n",
    "    #print(musics[music])\n",
    "    #break\n",
    "    cursor.execute('UPDATE music SET like_rate=' + str(musics[music]['like_score']) + ' WHERE music_id = ' + str(music))"
   ]
  },
  {
   "cell_type": "code",
   "execution_count": 193,
   "id": "c23a1f39",
   "metadata": {},
   "outputs": [],
   "source": [
    "cursor.execute('SELECT * FROM music')\n",
    "colnames = [desc[0] for desc in cursor.description]"
   ]
  },
  {
   "cell_type": "code",
   "execution_count": 194,
   "id": "783e9f9a",
   "metadata": {},
   "outputs": [
    {
     "data": {
      "text/plain": [
       "['music_id',\n",
       " 'music_spotify_uri',\n",
       " 'name',\n",
       " 'duration_ms',\n",
       " 'popularity',\n",
       " 'danceability',\n",
       " 'energy',\n",
       " 'music_key',\n",
       " 'loudness',\n",
       " 'mode',\n",
       " 'speechiness',\n",
       " 'acousticness',\n",
       " 'instrumentalness',\n",
       " 'liveness',\n",
       " 'valence',\n",
       " 'tempo',\n",
       " 'time_signature',\n",
       " 'like_rate']"
      ]
     },
     "execution_count": 194,
     "metadata": {},
     "output_type": "execute_result"
    }
   ],
   "source": [
    "colnames"
   ]
  },
  {
   "cell_type": "code",
   "execution_count": 197,
   "id": "14b1300f",
   "metadata": {},
   "outputs": [],
   "source": [
    "conn.commit()"
   ]
  },
  {
   "cell_type": "code",
   "execution_count": null,
   "id": "d6afe565",
   "metadata": {},
   "outputs": [],
   "source": []
  }
 ],
 "metadata": {
  "kernelspec": {
   "display_name": "Python 3 (ipykernel)",
   "language": "python",
   "name": "python3"
  },
  "language_info": {
   "codemirror_mode": {
    "name": "ipython",
    "version": 3
   },
   "file_extension": ".py",
   "mimetype": "text/x-python",
   "name": "python",
   "nbconvert_exporter": "python",
   "pygments_lexer": "ipython3",
   "version": "3.9.1"
  }
 },
 "nbformat": 4,
 "nbformat_minor": 5
}
