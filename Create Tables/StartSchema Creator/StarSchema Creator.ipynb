{
 "cells": [
  {
   "cell_type": "code",
   "execution_count": 1,
   "id": "irish-growth",
   "metadata": {},
   "outputs": [],
   "source": [
    "from tkinter import Tk     # from tkinter import Tk for Python 3.x\n",
    "from tkinter.filedialog import askopenfilename\n",
    "from pathlib import Path"
   ]
  },
  {
   "cell_type": "markdown",
   "id": "marked-fifth",
   "metadata": {},
   "source": [
    "### Functions"
   ]
  },
  {
   "cell_type": "code",
   "execution_count": 2,
   "id": "featured-confidentiality",
   "metadata": {},
   "outputs": [],
   "source": [
    "def to_camel_case(snake_str):\n",
    "    components = snake_str.split('_')\n",
    "    return ''.join(x.title() for x in components)"
   ]
  },
  {
   "cell_type": "markdown",
   "id": "asian-angle",
   "metadata": {},
   "source": [
    "### Opening config .erv file"
   ]
  },
  {
   "cell_type": "code",
   "execution_count": 3,
   "id": "processed-mercy",
   "metadata": {},
   "outputs": [],
   "source": [
    "Tk().withdraw()\n",
    "#filename = askopenfilename()\n",
    "#filename = 'C:/Users/Matheus Ervilha/Google Drive/# PUC/13. TCC/Create Tables/SpotifyTables/inputs_spotify.erv'\n",
    "filename = 'C:/Users/Matheus Ervilha/Google Drive/# PUC/13. TCC/Create Tables/SpotifyTables V2/inputs_spotify.erv'\n",
    "\n",
    "with open(filename, 'r') as f:\n",
    "    config = f.readlines()\n",
    "    \n",
    "final_path = '/'.join(filename.split('/')[:-1]) + '/'\n",
    "    \n",
    "Path(final_path + 'Script/').mkdir(parents=True, exist_ok=True)"
   ]
  },
  {
   "cell_type": "code",
   "execution_count": 4,
   "id": "c87a4579",
   "metadata": {},
   "outputs": [
    {
     "data": {
      "text/plain": [
       "'C:/Users/Matheus Ervilha/Google Drive/# PUC/13. TCC/Create Tables/SpotifyTables V2/inputs_spotify.erv'"
      ]
     },
     "execution_count": 4,
     "metadata": {},
     "output_type": "execute_result"
    }
   ],
   "source": [
    "filename"
   ]
  },
  {
   "cell_type": "markdown",
   "id": "public-amber",
   "metadata": {},
   "source": [
    "### Parsing File"
   ]
  },
  {
   "cell_type": "code",
   "execution_count": 5,
   "id": "stunning-watch",
   "metadata": {
    "scrolled": true
   },
   "outputs": [],
   "source": [
    "actual_table = ''\n",
    "tables = {}\n",
    "for line_raw in config:\n",
    "    line = line_raw.replace('\\n', '').replace(' ', '')\n",
    "        \n",
    "    if line == '':\n",
    "        actual_table = ''\n",
    "        continue\n",
    "    if actual_table == '':\n",
    "        if '$' in line:\n",
    "            main_table = line.replace('$', '')\n",
    "            line = line.replace('$', '')\n",
    "\n",
    "        actual_table = line\n",
    "        tables[actual_table] = {}\n",
    "        tables[actual_table]['items'] = []\n",
    "        tables[actual_table]['names'] = []\n",
    "        continue\n",
    "    if actual_table != '':\n",
    "        item = line.replace('\\t', '').replace('    ', '')\n",
    "        if '#' in item:\n",
    "            tables[actual_table]['id'] = item.split(',')[0].replace('#', '')\n",
    "        if '$' in item:\n",
    "            tables[actual_table]['main'] = item.split(',')[0].replace('$', '')\n",
    "        item = item.replace('$', '').replace('#', '')\n",
    "        tables[actual_table]['items'].append(item)\n",
    "        tables[actual_table]['names'].append(item.split(',')[0])"
   ]
  },
  {
   "cell_type": "markdown",
   "id": "indonesian-undergraduate",
   "metadata": {},
   "source": [
    "### Creating create_tables.sql file"
   ]
  },
  {
   "cell_type": "code",
   "execution_count": 6,
   "id": "living-garbage",
   "metadata": {
    "scrolled": false
   },
   "outputs": [],
   "source": [
    "create_tables = ''\n",
    "for table in tables:\n",
    "    actual_table = 'CREATE TABLE IF NOT EXISTS ' + table + ' ('\n",
    "    \n",
    "    foreign = []\n",
    "    for i in range(0, len(tables[table]['items'])):\n",
    "        item = tables[table]['items'][i]\n",
    "        if 'ID' in item:\n",
    "            item = item.replace('#', '')\n",
    "            actual_table = actual_table + '\\n\\t' + item.split(',')[0] + ' SERIAL PRIMARY KEY,'\n",
    "            continue\n",
    "        actual_table = actual_table + '\\n\\t' + item.split(',')[0] + ' ' + item.split(',')[1]\n",
    "        if i != len(tables[table]['items']) - 1:\n",
    "            actual_table = actual_table + ','\n",
    "        if len(item.split(',')) == 3:\n",
    "            foreign_string = 'FOREIGN KEY (' + item.split(',')[0] + ') REFERENCES ' + item.split(',')[2].replace('(', ' (') + ','\n",
    "            foreign.append(foreign_string)\n",
    "    if len(foreign) > 0:\n",
    "        actual_table = actual_table + ',\\n\\t'\n",
    "    actual_table = actual_table + '\\n\\t'.join(foreign)[:-1]\n",
    "    actual_table = actual_table + '\\n);\\n\\n'\n",
    "    create_tables = create_tables + '' + actual_table\n",
    "\n",
    "file = open(final_path + \"create_tables.sql\",\"w\")\n",
    "file.write(create_tables)\n",
    "file.close() "
   ]
  },
  {
   "cell_type": "markdown",
   "id": "instrumental-slope",
   "metadata": {},
   "source": [
    "### Creating Support Files\n",
    "#### 1. RAMData.py"
   ]
  },
  {
   "cell_type": "code",
   "execution_count": 7,
   "id": "beautiful-pathology",
   "metadata": {},
   "outputs": [],
   "source": [
    "RAMData = open(\"./reference_files/RAMData.py\",\"r\").read()\n",
    "declarations = ''\n",
    "for table in tables:\n",
    "    declarations = declarations + table + ' = {}\\n    '\n",
    "\n",
    "RAMData = RAMData.replace('$declarations', declarations)\n",
    "\n",
    "RAMData_output = open(final_path + \"Script/RAMData.py\",\"w\")\n",
    "RAMData_output.write(RAMData)\n",
    "RAMData_output.close() "
   ]
  },
  {
   "cell_type": "markdown",
   "id": "general-madrid",
   "metadata": {},
   "source": [
    "#### 2. SQLConn.py"
   ]
  },
  {
   "cell_type": "code",
   "execution_count": 8,
   "id": "parliamentary-karaoke",
   "metadata": {},
   "outputs": [
    {
     "name": "stdout",
     "output_type": "stream",
     "text": [
      "!!! Remember to change database credentials !!!\n"
     ]
    }
   ],
   "source": [
    "SQLConn = open(\"./reference_files/SQLConn.py\",\"r\").read()\n",
    "ids = ''\n",
    "for table in tables:\n",
    "    ids = ids + '\\'' + table + '\\': 0,\\n        '\n",
    "\n",
    "SQLConn = SQLConn.replace('$ids', ids)\n",
    "\n",
    "SQLConn_output = open(final_path + \"Script/SQLConn.py\",\"w\")\n",
    "SQLConn_output.write(SQLConn)\n",
    "SQLConn_output.close() \n",
    "\n",
    "print('!!! Remember to change database credentials !!!')"
   ]
  },
  {
   "cell_type": "markdown",
   "id": "bacterial-detection",
   "metadata": {},
   "source": [
    "#### 3. SQLData.py"
   ]
  },
  {
   "cell_type": "code",
   "execution_count": 9,
   "id": "exclusive-choir",
   "metadata": {},
   "outputs": [],
   "source": [
    "SQLData = open(\"./reference_files/SQLData.py\",\"r\").read()\n",
    "\n",
    "# Declarations\n",
    "declarations = ''\n",
    "for table in tables:\n",
    "    declarations = declarations + table + ' = []\\n    '\n",
    "SQLData = SQLData.replace('$declarations', declarations)\n",
    "\n",
    "# Main_table\n",
    "SQLData = SQLData.replace('$main_table', main_table)\n",
    "\n",
    "# Save\n",
    "save = ''\n",
    "for table in tables:\n",
    "    save = save + 'self.save_' + table + '()\\n        '\n",
    "SQLData = SQLData.replace('$save', save)\n",
    "\n",
    "# Insert\n",
    "insert = ''\n",
    "for table in tables:\n",
    "    insert = insert + '    def insert_' + table + '(self, ' + table + '):\\n'\n",
    "    insert = insert + '        self.' + table + '.append(' + table + ')\\n'\n",
    "    if table == main_table:\n",
    "        insert = insert + '        self.checkMaxSize()\\n'\n",
    "    insert = insert + '\\n'\n",
    "SQLData = SQLData.replace('$insert', insert)\n",
    "\n",
    "# Query\n",
    "query = ''\n",
    "for table in tables:\n",
    "    query = query + '    def save_' + table + '(self):\\n'\n",
    "    query = query + '        valuesString = []\\n'\n",
    "    query = query + '        for new_' + table + ' in self.' + table + ':\\n'\n",
    "    s_array = []\n",
    "    for i in range(0, len(tables[table]['names'])):\n",
    "        if tables[table]['items'][i].split(',')[1] in ['INTEGER', 'DOUBLE', 'FLOAT', 'NUMERIC']:\n",
    "            s_array.append('%s')\n",
    "        else:\n",
    "            s_array.append('\\'%s\\'')\n",
    "    query = query + '            valuesString.append(\"\"\"(' + (','.join(s_array)) + ')\"\"\" % ( \\\\\\n'\n",
    "    for i in range(0, len(tables[table]['names'])):\n",
    "        if tables[table]['items'][i].split(',')[1] in ['INTEGER', 'DOUBLE', 'FLOAT', 'NUMERIC']:\n",
    "            query = query + '                                new_' + table + '.get(\\'' + tables[table]['names'][i] + '\\', \\'null\\')'\n",
    "        else:\n",
    "            query = query + '                                new_' + table + '.get(\\'' + tables[table]['names'][i] + '\\', \\'\\')'\n",
    "        if i != len(tables[table]['names']) - 1:\n",
    "            query = query + ','\n",
    "        query = query + '\\n'\n",
    "    query = query + '                            ))\\n\\n'\n",
    "    query = query + '        tabela = \\'' + table + '\\'\\n'\n",
    "    query = query + '        columns = \"\"\"\\n'\n",
    "    i_array = []\n",
    "    for i in range(0, len(tables[table]['names'])):\n",
    "        query = query + '            ' + tables[table]['names'][i]\n",
    "        if i != len(tables[table]['names']) - 1:\n",
    "            query = query + ','\n",
    "        query = query + '\\n'\n",
    "    query = query + '        \"\"\"\\n'\n",
    "    query = query + '        insertString = f\\'INSERT INTO %s (%s) VALUES %s\\' % (tabela, columns, (\",\".join(valuesString) ) )\\n'\n",
    "    query = query + '        if len(valuesString) == 0:\\n'\n",
    "    query = query + '            return\\n'\n",
    "    query = query + '        insertString = insertString.replace(\\'\\\\\\'null\\\\\\'\\', \\'null\\')\\n'\n",
    "    query = query + '        SQLConn.instance().cursor.execute(insertString)\\n'\n",
    "    query = query + '        self.' + table + ' = []\\n'\n",
    "    query = query + '\\n\\n'\n",
    "    \n",
    "    if tables[table].get('main', '') != '':\n",
    "        query = query + '    def update_' + table + '(self, ' + table + '):\\n'\n",
    "        query = query + '        keys_raw = list(' + table + '.keys())\\n'\n",
    "        query = query + '        setValues = []\\n'\n",
    "        query = query + '        for key in keys_raw:\\n'\n",
    "        query = query + '            if key == \\'' + table + '_id\\':\\n'\n",
    "        query = query + '                continue\\n'\n",
    "        query = query + '            if isinstance(' + table + '[key], float) or isinstance(' + table + '[key], int):\\n'\n",
    "        query = query + '                setValues.append(key + \\' = \\' + str(' + table + '[key]))\\n'\n",
    "        query = query + '            else:\\n'\n",
    "        query = query + '                setValues.append(key + \\' = \\\\\\'\\' + str(' + table + '[key]) + \\'\\\\\\'\\')\\n\\n'\n",
    "        query = query + '        if len(setValues) == 0:\\n'\n",
    "        query = query + '            return\\n\\n'\n",
    "        query = query + '        updateString = f\\'UPDATE ' + table + ' SET %s WHERE ' + table + '_id = %s\\' % (\\', \\'.join(setValues), ' + table + '[\\'' + table + '_id\\'])\\n'\n",
    "        query = query + '        SQLConn.instance().cursor.execute(updateString)\\n'\n",
    "        query = query + '\\n\\n'\n",
    "SQLData = SQLData.replace('$query', query)\n",
    "\n",
    "SQLData_output = open(final_path + \"Script/SQLData.py\",\"w\")\n",
    "SQLData_output.write(SQLData)\n",
    "SQLData_output.close() "
   ]
  },
  {
   "cell_type": "markdown",
   "id": "natural-dance",
   "metadata": {},
   "source": [
    "#### 4. All of the itens"
   ]
  },
  {
   "cell_type": "code",
   "execution_count": 10,
   "id": "occasional-lemon",
   "metadata": {},
   "outputs": [],
   "source": [
    "SQLData = open(\"./reference_files/Item.py\",\"r\").read()\n",
    "\n",
    "for table in tables:\n",
    "    get = ''\n",
    "    if tables[table].get('main', '') != '':\n",
    "        get = get + 'def get' + to_camel_case(table) + 'Id(' + table + '):\\n'\n",
    "        get = get + '    ' + table + '_id = RAMData.instance().' + table + '.get(' + table + '[\\'' + tables[table]['main'] + '\\']' + ')\\n'\n",
    "        get = get + '    if ' + table + '_id is not None:\\n'\n",
    "        get = get + '        return ' + table + '_id\\n\\n'\n",
    "        get = get + '    ' + table + '[\\'' + table + '_id\\'] = SQLConn.instance().getId(\\'' + table + '\\')\\n'\n",
    "        get = get + '    SQLData.instance().insert_' + table + '(' + table + ')\\n'\n",
    "        get = get + '    RAMData.instance().' + table + '[' + table + '[\\'' + tables[table]['main'] + '\\']] = ' + table + '[\\'' + table + '_id\\']\\n'\n",
    "        get = get + '    return ' + table + '[\\'' + table + '_id\\']\\n\\n'\n",
    "        get = get + 'def update' + to_camel_case(table) + '(' + table + '):\\n'\n",
    "#         get = get + '    ' + table + '_id = RAMData.instance().' + table + '.get(' + table + '[\\'' + tables[table]['main'] + '\\']' + ')\\n'\n",
    "#         get = get + '    if ' + table + '_id is None:\\n'\n",
    "#         get = get + '        return get' + to_camel_case(table) + 'Id(' + table + ')\\n\\n'\n",
    "        get = get + '    SQLData.instance().update_' + table + '(' + table + ')\\n'\n",
    "#         get = get + '    return ' + table + '[\\'' + table + '_id\\']\\n\\n'\n",
    "    else:\n",
    "        get = get + 'def save' + to_camel_case(table) + '(' + table + '):\\n'\n",
    "        get = get + '    code = RAMData.getCode(' + table + ')\\n'\n",
    "        get = get + '    ' + table + '_id = RAMData.instance().' + table + '.get(code)\\n'\n",
    "        get = get + '    if ' + table + '_id is not None:\\n'\n",
    "        get = get + '        return\\n\\n'\n",
    "        get = get + '    ' + table + '[\\'' + table + '_id\\'] = SQLConn.instance().getId(\\'' + table + '\\')\\n'\n",
    "        get = get + '    SQLData.instance().insert_' + table + '(' + table + ')\\n'\n",
    "        get = get + '    RAMData.instance().' + table + '[code] = ' + table + '[\\'' + table + '_id\\']'\n",
    "    \n",
    "    item_data = SQLData.replace('$getsave', get)\n",
    "    Item_output = open(final_path + 'Script/' + to_camel_case(table) + \".py\",\"w\")\n",
    "    Item_output.write(item_data)\n",
    "    Item_output.close() \n",
    "    "
   ]
  },
  {
   "cell_type": "markdown",
   "id": "abandoned-simpson",
   "metadata": {},
   "source": [
    "#### 5. Process File"
   ]
  },
  {
   "cell_type": "code",
   "execution_count": 11,
   "id": "other-membership",
   "metadata": {},
   "outputs": [],
   "source": [
    "Main = open(\"./reference_files/Main.py\",\"r\").read()\n",
    "\n",
    "# Items\n",
    "items = []\n",
    "for table in tables:\n",
    "    items.append(to_camel_case(table))\n",
    "Main = Main.replace('$items', ', '.join(items))\n",
    "\n",
    "# Tables\n",
    "names = []\n",
    "for table in tables:\n",
    "    names.append(table)\n",
    "Main = Main.replace('$tables', ','.join(names))\n",
    "\n",
    "Main_output = open(final_path + \"Main.py\",\"w\")\n",
    "Main_output.write(Main)\n",
    "Main_output.close() "
   ]
  },
  {
   "cell_type": "code",
   "execution_count": 12,
   "id": "floppy-shanghai",
   "metadata": {},
   "outputs": [
    {
     "name": "stdout",
     "output_type": "stream",
     "text": [
      "Done!\n"
     ]
    }
   ],
   "source": [
    "print('Done!')"
   ]
  },
  {
   "cell_type": "code",
   "execution_count": null,
   "id": "bcdcbb12",
   "metadata": {},
   "outputs": [],
   "source": []
  }
 ],
 "metadata": {
  "kernelspec": {
   "display_name": "Python 3 (ipykernel)",
   "language": "python",
   "name": "python3"
  },
  "language_info": {
   "codemirror_mode": {
    "name": "ipython",
    "version": 3
   },
   "file_extension": ".py",
   "mimetype": "text/x-python",
   "name": "python",
   "nbconvert_exporter": "python",
   "pygments_lexer": "ipython3",
   "version": "3.9.1"
  }
 },
 "nbformat": 4,
 "nbformat_minor": 5
}
