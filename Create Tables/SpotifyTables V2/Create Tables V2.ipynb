{
 "cells": [
  {
   "cell_type": "code",
   "execution_count": null,
   "id": "7160a13f",
   "metadata": {},
   "outputs": [],
   "source": [
    "%load_ext autoreload\n",
    "%autoreload 2"
   ]
  },
  {
   "cell_type": "code",
   "execution_count": null,
   "id": "d8b0382b",
   "metadata": {},
   "outputs": [],
   "source": [
    "from Script import Album, Artist, Music, Genre, Category, GenreCategory, MusicArtist, AlbumMusic, GenreArtist, Play, Favorite\n",
    "from Script.SQLConn import SQLConn\n",
    "from Script.RAMData import RAMData\n",
    "from Script.SQLData import SQLData\n",
    "import json\n",
    "import csv\n",
    "from difflib import SequenceMatcher\n",
    "from tqdm.notebook import tqdm\n",
    "from tkinter import Tk     # from tkinter import Tk for Python 3.x\n",
    "from tkinter.filedialog import askopenfilename, askdirectory\n",
    "from pathlib import Path\n",
    "from os import listdir\n",
    "from os.path import isfile, join"
   ]
  },
  {
   "cell_type": "code",
   "execution_count": null,
   "id": "62e766fc",
   "metadata": {},
   "outputs": [],
   "source": [
    "## Postgres\n",
    "\n",
    "# Connect to Database\n",
    "print('Connecting to the Database...')\n",
    "SQLConn.instance()\n",
    "\n",
    "# Erase all tables\n",
    "SQLConn.instance().cursor.execute(\"DROP TABLE IF EXISTS album,artist,music,genre,category,genre_category,music_artist,album_music,genre_artist,play,favorite CASCADE;\")\n",
    "\n",
    "# Create tables\n",
    "sql_createtables_string = open('create_tables.sql', 'r', encoding=\"utf-8\").read()\n",
    "SQLConn.instance().cursor.execute(sql_createtables_string)\n",
    "\n",
    "# RAM Started\n",
    "ramData = RAMData.instance()\n",
    "\n",
    "# SQL Started\n",
    "sqlData = SQLData.instance()\n",
    "\n",
    "# Commit and create Tables\n",
    "SQLConn.instance().conn.commit()\n",
    "print('Connected!')"
   ]
  },
  {
   "cell_type": "code",
   "execution_count": null,
   "id": "e80a5bd9",
   "metadata": {},
   "outputs": [],
   "source": [
    "def formatName(name):\n",
    "    return name.replace('\\'', '\\'\\'')\n",
    "\n",
    "def similar(a, b):\n",
    "    return SequenceMatcher(None, a, b).ratio()"
   ]
  },
  {
   "cell_type": "markdown",
   "id": "0066901f",
   "metadata": {},
   "source": [
    "# Artists"
   ]
  },
  {
   "cell_type": "code",
   "execution_count": null,
   "id": "ec1b18f0",
   "metadata": {},
   "outputs": [],
   "source": [
    "f = open('../../Datasets/spotify_artists.json', 'r', encoding=\"utf8\")\n",
    "artists_file = json.load(f)\n",
    "f.close()"
   ]
  },
  {
   "cell_type": "code",
   "execution_count": null,
   "id": "a84f988b",
   "metadata": {},
   "outputs": [],
   "source": [
    "keywords_genres = {\n",
    "    'Pop': ['pop', 'alt z'], \n",
    "    'Rock': ['rock'], \n",
    "    'Classical': ['classical', 'cello', 'orchestra', 'baroque'], \n",
    "    'Jazz': ['jazz', 'bossa nova', 'big band', 'hard bop', 'bebop'], \n",
    "    'Blues': ['blues'], \n",
    "    'Folk': ['folk'], \n",
    "    'Funk': ['funk'], \n",
    "    'Lo-fi': ['lo-fi'], \n",
    "    'Indie': ['indie', 'alt z'], \n",
    "    'Metal': ['metal'], \n",
    "    'Hip hop': ['hip hop'], \n",
    "    'Edm': ['electronica', 'edm', 'house', 'moog', 'electronic', 'techno', 'vaporwave', 'tronica', 'dubstep', 'trance'],\n",
    "    'Rap': ['rap'],\n",
    "    'Soundtrack': ['soundtrack'],\n",
    "    'Sertanejo': ['sertanejo'],\n",
    "    'R&b': ['r&b', 'soul'],\n",
    "    'Punk': ['punk'],\n",
    "    'Reggae': ['reggae'],\n",
    "    'Country': ['country'],\n",
    "    'Instrumental': ['instrumental', 'ambient'],\n",
    "    'Nacional': ['brasileiro', 'brazilian', 'brasileiros', 'brasileira', 'nacional'],\n",
    "}"
   ]
  },
  {
   "cell_type": "code",
   "execution_count": null,
   "id": "4f220a44",
   "metadata": {},
   "outputs": [],
   "source": [
    "for artist_raw in tqdm(artists_file):\n",
    "    artist = {\n",
    "        'artist_spotify_uri': artist_raw['uri'],\n",
    "        'name': formatName(artist_raw['name']),\n",
    "        'followers': artist_raw['followers']['total'],\n",
    "        'popularity': artist_raw['popularity']\n",
    "    }\n",
    "    artist_id = Artist.getArtistId(artist)\n",
    "    \n",
    "    for genre_raw in artist_raw['genres']:\n",
    "        genre = {\n",
    "            'genre': formatName(genre_raw)\n",
    "        }\n",
    "        genre_id = Genre.getGenreId(genre)\n",
    "        genre_artist = {\n",
    "            'genre_id': genre_id,\n",
    "            'artist_id': artist_id\n",
    "        }\n",
    "        GenreArtist.saveGenreArtist(genre_artist)\n",
    "        \n",
    "        for category_name in keywords_genres:\n",
    "            for key in keywords_genres[category_name]:\n",
    "                if key in genre_raw:\n",
    "                    genre_category = {\n",
    "                        'genre_id': genre_id,\n",
    "                        'category_id': Category.getCategoryId({'category': category_name})\n",
    "                    }\n",
    "                    GenreCategory.saveGenreCategory(genre_category)\n",
    "    \n",
    "sqlData.save()\n",
    "SQLConn.instance().conn.commit()"
   ]
  },
  {
   "cell_type": "markdown",
   "id": "4b6d9206",
   "metadata": {},
   "source": [
    "# Musics"
   ]
  },
  {
   "cell_type": "code",
   "execution_count": null,
   "id": "69a8437d",
   "metadata": {},
   "outputs": [],
   "source": [
    "f = open('../../Datasets/spotify_tracks.json', 'r', encoding=\"utf8\")\n",
    "musics_file = json.load(f)\n",
    "f.close()"
   ]
  },
  {
   "cell_type": "code",
   "execution_count": null,
   "id": "0ec7c971",
   "metadata": {},
   "outputs": [],
   "source": [
    "for music_raw in tqdm(musics_file):\n",
    "    music = {\n",
    "        'music_spotify_uri': music_raw['uri'],\n",
    "        'name': formatName(music_raw['name']),\n",
    "        'duration_ms': music_raw['duration_ms'],\n",
    "        'popularity': music_raw['popularity']\n",
    "    }\n",
    "    music_id = Music.getMusicId(music)\n",
    "    for artist in music_raw['artists']:\n",
    "        music_artist = {\n",
    "            'music_id': music_id,\n",
    "            'artist_id': Artist.getArtistId({'artist_spotify_uri': artist['uri']})\n",
    "        }\n",
    "        MusicArtist.saveMusicArtist(music_artist)\n",
    "\n",
    "sqlData.save()\n",
    "SQLConn.instance().conn.commit()"
   ]
  },
  {
   "cell_type": "markdown",
   "id": "effa0664",
   "metadata": {},
   "source": [
    "# Features"
   ]
  },
  {
   "cell_type": "code",
   "execution_count": null,
   "id": "59be9809",
   "metadata": {},
   "outputs": [],
   "source": [
    "f = open('../../Datasets/spotify_features.json', 'r', encoding=\"utf8\")\n",
    "features_file = json.load(f)\n",
    "f.close()"
   ]
  },
  {
   "cell_type": "code",
   "execution_count": null,
   "id": "966b0f5d",
   "metadata": {},
   "outputs": [],
   "source": [
    "for feature_raw in tqdm(features_file):\n",
    "    if feature_raw is None:\n",
    "        continue\n",
    "    music = {\n",
    "        'music_id': Music.getMusicId({'music_spotify_uri': feature_raw['uri']}),\n",
    "        'danceability': feature_raw['danceability'],\n",
    "        'energy': feature_raw['energy'],\n",
    "        'music_key': feature_raw['key'],\n",
    "        'loudness': feature_raw['loudness'],\n",
    "        'mode': feature_raw['mode'],\n",
    "        'speechiness': feature_raw['speechiness'],\n",
    "        'acousticness': feature_raw['acousticness'],\n",
    "        'instrumentalness': feature_raw['instrumentalness'],\n",
    "        'liveness': feature_raw['liveness'],\n",
    "        'valence': feature_raw['valence'],\n",
    "        'tempo': feature_raw['tempo'],\n",
    "        'time_signature': feature_raw['time_signature'],\n",
    "    }\n",
    "    \n",
    "    Music.updateMusic(music)\n",
    "    \n",
    "sqlData.save()\n",
    "SQLConn.instance().conn.commit()"
   ]
  },
  {
   "cell_type": "markdown",
   "id": "b1d101db",
   "metadata": {},
   "source": [
    "# Albums"
   ]
  },
  {
   "cell_type": "code",
   "execution_count": null,
   "id": "27fc771c",
   "metadata": {},
   "outputs": [],
   "source": [
    "f = open('../../Datasets/spotify_albums.json', 'r', encoding=\"utf8\")\n",
    "albums_file = json.load(f)\n",
    "f.close()"
   ]
  },
  {
   "cell_type": "code",
   "execution_count": null,
   "id": "0d563fea",
   "metadata": {},
   "outputs": [],
   "source": [
    "for album_raw in tqdm(albums_file):\n",
    "    label = album_raw.get('label', '')\n",
    "    if label == None:\n",
    "        label = ''\n",
    "        \n",
    "    release_date = ''\n",
    "    if album_raw['release_date_precision'] == 'day':\n",
    "        release_date = album_raw['release_date']\n",
    "    elif album_raw['release_date_precision'] == 'month':\n",
    "        release_date = album_raw['release_date'] + '-01'\n",
    "    elif album_raw['release_date_precision'] == 'year':\n",
    "        release_date = album_raw['release_date'] + '-01-01'\n",
    "        \n",
    "    album = {\n",
    "        'album_spotify_uri': album_raw['uri'],\n",
    "        'title': formatName(album_raw['name']),\n",
    "        'release_date': release_date,\n",
    "        'total_tracks': album_raw['total_tracks'],\n",
    "        'label': formatName(label),\n",
    "        'popularity': album_raw['popularity'],\n",
    "    }\n",
    "    album_id = Album.getAlbumId(album)\n",
    "    for track in album_raw['tracks']['items']:\n",
    "        album_music = {\n",
    "            'album_id': album_id,\n",
    "            'music_id': Music.getMusicId({'music_spotify_uri': track['uri']})\n",
    "        }\n",
    "        AlbumMusic.saveAlbumMusic(album_music)\n",
    "        \n",
    "sqlData.save()\n",
    "SQLConn.instance().conn.commit()"
   ]
  },
  {
   "cell_type": "markdown",
   "id": "69f2037e",
   "metadata": {},
   "source": [
    "# Play"
   ]
  },
  {
   "cell_type": "code",
   "execution_count": null,
   "id": "5f7a28c9",
   "metadata": {
    "scrolled": true
   },
   "outputs": [],
   "source": [
    "folder_selected = 'C:/Users/Matheus Ervilha/Google Drive/# PUC/13. TCC/Datasets/6. Spotify MyData Technical Log and Extended History'\n",
    "\n",
    "onlyfiles = [f for f in listdir(folder_selected) if isfile(join(folder_selected, f))]\n",
    "history_files = []\n",
    "for file in onlyfiles:\n",
    "    if 'endsong' in file:\n",
    "        history_files.append(file)\n",
    "\n",
    "for file in history_files:\n",
    "    print('File: ' + file)\n",
    "    f = open(folder_selected + '/' + file, encoding=\"utf8\")\n",
    "    data = json.load(f)\n",
    "    for play_raw in tqdm(data):\n",
    "        if 'spotify_track_uri' not in play_raw or play_raw['spotify_track_uri'] is None:\n",
    "            continue\n",
    "        play = {\n",
    "            'music_id': Music.getMusicId({'music_spotify_uri': play_raw['spotify_track_uri']}),\n",
    "            'end_time': play_raw['ts'],\n",
    "            'ms_played': play_raw['ms_played'],\n",
    "            'platform': play_raw['platform'],\n",
    "            'ip_addr': play_raw['ip_addr_decrypted'],\n",
    "            'reason_start': play_raw['reason_start'],\n",
    "            'reason_end': play_raw['reason_end'],\n",
    "            'shuffle': play_raw['shuffle'],\n",
    "            'skipped': play_raw['skipped'],\n",
    "            'offline': play_raw['offline'],\n",
    "        }\n",
    "        Play.savePlay(play)\n",
    "        \n",
    "sqlData.save()\n",
    "SQLConn.instance().conn.commit()"
   ]
  },
  {
   "cell_type": "markdown",
   "id": "8cdbeab6",
   "metadata": {},
   "source": [
    "# Tops"
   ]
  },
  {
   "cell_type": "code",
   "execution_count": null,
   "id": "d501905f",
   "metadata": {},
   "outputs": [],
   "source": [
    "folder_selected = 'C:/Users/Matheus Ervilha/Google Drive/# PUC/13. TCC/Datasets/6. Spotify MyData Technical Log and Extended History/Playlists'\n",
    "\n",
    "onlyfiles = [f for f in listdir(folder_selected) if isfile(join(folder_selected, f))]\n",
    "history_files = []\n",
    "for file in onlyfiles:\n",
    "    f = open(folder_selected + '/' + file, encoding=\"utf8\")\n",
    "    data = json.load(f)\n",
    "    date = file.split('.')[0].split('_')[0]\n",
    "    for track in data['items']:\n",
    "        favorite = {\n",
    "            'added_at': track['added_at'],\n",
    "            'year': date,\n",
    "            'music_id': Music.getMusicId({'music_spotify_uri': track['track']['uri']})\n",
    "        }\n",
    "        Favorite.saveFavorite(favorite)\n",
    "        \n",
    "sqlData.save()\n",
    "SQLConn.instance().conn.commit()"
   ]
  },
  {
   "cell_type": "code",
   "execution_count": null,
   "id": "07a70ad6",
   "metadata": {},
   "outputs": [],
   "source": [
    "# Save everything else remaining\n",
    "sqlData.save()\n",
    "\n",
    "## Commit changes\n",
    "SQLConn.instance().conn.commit()\n",
    "print('Done!')"
   ]
  },
  {
   "cell_type": "code",
   "execution_count": null,
   "id": "54709776",
   "metadata": {},
   "outputs": [],
   "source": []
  }
 ],
 "metadata": {
  "kernelspec": {
   "display_name": "Python 3 (ipykernel)",
   "language": "python",
   "name": "python3"
  },
  "language_info": {
   "codemirror_mode": {
    "name": "ipython",
    "version": 3
   },
   "file_extension": ".py",
   "mimetype": "text/x-python",
   "name": "python",
   "nbconvert_exporter": "python",
   "pygments_lexer": "ipython3",
   "version": "3.9.1"
  }
 },
 "nbformat": 4,
 "nbformat_minor": 5
}
