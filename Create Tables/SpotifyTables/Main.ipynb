{
 "cells": [
  {
   "cell_type": "code",
   "execution_count": 1,
   "id": "90e1ebe5",
   "metadata": {},
   "outputs": [],
   "source": [
    "%load_ext autoreload\n",
    "%autoreload 2"
   ]
  },
  {
   "cell_type": "code",
   "execution_count": 2,
   "id": "87635796",
   "metadata": {},
   "outputs": [],
   "source": [
    "from Script import Album, Artist, Music, Genre, MusicArtist, AlbumArtist, GenreArtist, Play, TopMusic, Favorite\n",
    "from Script.SQLConn import SQLConn\n",
    "from Script.RAMData import RAMData\n",
    "from Script.SQLData import SQLData\n",
    "\n",
    "import json\n",
    "import csv\n",
    "from difflib import SequenceMatcher"
   ]
  },
  {
   "cell_type": "code",
   "execution_count": 3,
   "id": "3fedac69",
   "metadata": {},
   "outputs": [
    {
     "name": "stdout",
     "output_type": "stream",
     "text": [
      "Connecting to the Database...\n",
      "Connected!\n"
     ]
    }
   ],
   "source": [
    "# Connect to Database\n",
    "print('Connecting to the Database...')\n",
    "SQLConn.instance()\n",
    "\n",
    "# Erase all tables\n",
    "SQLConn.instance().cursor.execute(\"DROP TABLE IF EXISTS album,artist,music,genre,music_artist,album_artist,genre_artist,play,top_music,favorite CASCADE;\")\n",
    "\n",
    "# Create tables\n",
    "sql_createtables_string = open('create_tables.sql', 'r', encoding=\"utf-8\").read()\n",
    "SQLConn.instance().cursor.execute(sql_createtables_string)\n",
    "\n",
    "# RAM Started\n",
    "ramData = RAMData.instance()\n",
    "\n",
    "# SQL Started\n",
    "sqlData = SQLData.instance()\n",
    "\n",
    "# Commit and create Tables\n",
    "SQLConn.instance().conn.commit()\n",
    "print('Connected!')"
   ]
  },
  {
   "cell_type": "markdown",
   "id": "1112222b",
   "metadata": {},
   "source": [
    "## 1. Listening History"
   ]
  },
  {
   "cell_type": "code",
   "execution_count": 4,
   "id": "60dbccda",
   "metadata": {},
   "outputs": [],
   "source": [
    "def getTrackId(trackName, artist):\n",
    "    return (trackName + artist).lower()\n",
    "\n",
    "def formatName(name):\n",
    "    return name.replace('\\'', '\\'\\'')\n",
    "\n",
    "def similar(a, b):\n",
    "    return SequenceMatcher(None, a, b).ratio()"
   ]
  },
  {
   "cell_type": "code",
   "execution_count": 5,
   "id": "ccf67303",
   "metadata": {},
   "outputs": [],
   "source": [
    "# Opening JSON file\n",
    "f = open('../../Datasets/4. My Spotify Data/MyData/StreamingHistory0.json', encoding=\"utf8\")\n",
    "data = json.load(f)\n",
    "\n",
    "for line in data:\n",
    "    artist = {\n",
    "        'title': formatName(line['artistName'])\n",
    "    }\n",
    "    music = {\n",
    "        'title': formatName(line['trackName'])\n",
    "    }\n",
    "    music_artist = {\n",
    "        'music_id': Music.getMusicId(music),\n",
    "        'artist_id': Artist.getArtistId(artist)\n",
    "    }\n",
    "    MusicArtist.saveMusicArtist(music_artist)\n",
    "    play = {\n",
    "        'music_id': music_artist['music_id'],\n",
    "        'end_time': line['endTime'],\n",
    "        'ms_played': line['msPlayed']\n",
    "    }\n",
    "    Play.savePlay(play)\n",
    "    \n",
    "sqlData.save()"
   ]
  },
  {
   "cell_type": "markdown",
   "id": "1a040d52",
   "metadata": {},
   "source": [
    "## 2. IDs"
   ]
  },
  {
   "cell_type": "code",
   "execution_count": 6,
   "id": "fc095778",
   "metadata": {},
   "outputs": [],
   "source": [
    "ids = json.load(open('../../Datasets/ids_json_updated.json', encoding=\"utf8\"))\n",
    "ids_artist = json.load(open('../../Datasets/ids_artists_json.json', encoding=\"utf8\"))\n",
    "\n",
    "ids_artist_inv = {}\n",
    "for artist in ids_artist:\n",
    "    ids_artist_inv[ids_artist[artist]['spotifyID']] = artist\n",
    "    \n",
    "ids_artist_inv_ge = {}\n",
    "for artist in ids_artist:\n",
    "    if 'geniusID' in ids_artist[artist]:\n",
    "        ids_artist_inv_ge[ids_artist[artist]['geniusID']] = artist\n",
    "    \n",
    "ids_inv = {}\n",
    "for music in ids:\n",
    "    if 'spotifyID' in ids[music]:\n",
    "        ids_inv[ids[music]['spotifyID']] = ids[music]\n",
    "        \n",
    "ids_inv_ge = {}\n",
    "for music in ids:\n",
    "    if 'geniusID' in ids[music]:\n",
    "        ids_inv_ge[ids[music]['geniusID']] = ids[music]\n",
    "        "
   ]
  },
  {
   "cell_type": "markdown",
   "id": "258b2981",
   "metadata": {},
   "source": [
    "## 3. Spotify Artists"
   ]
  },
  {
   "cell_type": "code",
   "execution_count": 7,
   "id": "afdb7d77",
   "metadata": {},
   "outputs": [],
   "source": [
    "spotify_artists = json.load(open('../../Datasets/spotify_artists_json.json', encoding=\"utf8\"))\n",
    "for artist_raw in spotify_artists:\n",
    "    artist = {\n",
    "        'title': formatName(ids_artist_inv[artist_raw['id']]),\n",
    "        'artist_spotify_id': artist_raw['id']\n",
    "    }\n",
    "    artist_id = Artist.getArtistId(artist)\n",
    "    artist['artist_id'] = artist_id\n",
    "    Artist.updateArtist(artist)\n",
    "    for genre_raw in artist_raw['genres']:\n",
    "        genre = {\n",
    "            'genre': formatName(genre_raw)\n",
    "        }\n",
    "        genre_id = Genre.getGenreId(genre)\n",
    "        GenreArtist.saveGenreArtist({'artist_id': artist_id, 'genre_id': genre_id})\n",
    "        \n",
    "sqlData.save()"
   ]
  },
  {
   "cell_type": "markdown",
   "id": "3b998e5b",
   "metadata": {},
   "source": [
    "## 4. Spotify Songs"
   ]
  },
  {
   "cell_type": "code",
   "execution_count": 8,
   "id": "f2d313b3",
   "metadata": {},
   "outputs": [],
   "source": [
    "spotify_songs = json.load(open('../../Datasets/spotify_music_json.json', encoding=\"utf8\"))\n",
    "\n",
    "for song_raw in spotify_songs:\n",
    "    if ids_inv.get(song_raw['id'], '') != '':\n",
    "        album = {\n",
    "            'title': formatName(song_raw['album']['name']),\n",
    "            'release_date': song_raw['album']['release_date'],\n",
    "            'total_tracks': song_raw['album']['total_tracks'],\n",
    "            'album_spotify_id': song_raw['album']['id'],\n",
    "        }\n",
    "        album_id = Album.getAlbumId(album)\n",
    "sqlData.save()\n",
    "\n",
    "for song_raw in spotify_songs:\n",
    "    if ids_inv.get(song_raw['id'], '') != '':\n",
    "        music = {\n",
    "            'title': formatName(ids_inv[song_raw['id']]['trackName']),\n",
    "            'duration_ms': song_raw['duration_ms'],\n",
    "            'popularity': song_raw['popularity'],\n",
    "            'music_spotify_id': song_raw['id'],\n",
    "            'album_id': Album.getAlbumId({'album_spotify_id': formatName(song_raw['album']['id'])})\n",
    "        }\n",
    "        music_id = Music.getMusicId(music)\n",
    "        music['music_id'] = music_id\n",
    "        Music.updateMusic(music)\n"
   ]
  },
  {
   "cell_type": "markdown",
   "id": "e313e6d7",
   "metadata": {},
   "source": [
    "## 5. Spotify Features"
   ]
  },
  {
   "cell_type": "code",
   "execution_count": 9,
   "id": "69b61a17",
   "metadata": {},
   "outputs": [],
   "source": [
    "spotify_features = json.load(open('../../Datasets/spotify_features_json.json', encoding=\"utf8\"))\n",
    "\n",
    "for song_raw in spotify_features:\n",
    "    if ids_inv.get(song_raw['id'], '') != '':\n",
    "        music = {\n",
    "            'title': formatName(ids_inv[song_raw['id']]['trackName']),\n",
    "            'danceability': song_raw['danceability'],\n",
    "            'energy': song_raw['energy'],\n",
    "            'music_key': song_raw['key'],\n",
    "            'loudness': song_raw['loudness'],\n",
    "            'mode': song_raw['mode'],\n",
    "            'speechiness': song_raw['speechiness'],\n",
    "            'acousticness': song_raw['acousticness'],\n",
    "            'instrumentalness': song_raw['instrumentalness'],\n",
    "            'liveness': song_raw['liveness'],\n",
    "            'valence': song_raw['valence'],\n",
    "            'tempo': song_raw['tempo'],\n",
    "            'time_signature': song_raw['time_signature'],\n",
    "        }\n",
    "        music_id = Music.getMusicId(music)\n",
    "        music['music_id'] = music_id\n",
    "        Music.updateMusic(music)"
   ]
  },
  {
   "cell_type": "markdown",
   "id": "0c02bfe1",
   "metadata": {},
   "source": [
    "## 6. Genius Artists"
   ]
  },
  {
   "cell_type": "code",
   "execution_count": 10,
   "id": "a5edba86",
   "metadata": {},
   "outputs": [],
   "source": [
    "genius_artists = json.load(open('../../Datasets/genius_artists_json.json', encoding=\"utf8\"))\n",
    "for artist_raw in genius_artists:\n",
    "    if artist_raw['artist']['id'] in ids_artist_inv_ge:\n",
    "        if similar(ids_artist_inv_ge[artist_raw['artist']['id']].lower(),  artist_raw['artist']['name'].lower()) > 0.6:\n",
    "            artist = {\n",
    "                'title': formatName(ids_artist_inv_ge[artist_raw['artist']['id']]),\n",
    "                'artist_genius_id': artist_raw['artist']['id'],\n",
    "                'instagram_name': artist_raw['artist']['instagram_name'],\n",
    "                'twitter_name': artist_raw['artist']['twitter_name']\n",
    "            }\n",
    "            artist_id = Artist.getArtistId(artist)\n",
    "            artist['artist_id'] = artist_id\n",
    "            Artist.updateArtist(artist)\n",
    "#         else:\n",
    "#             print(str(similar(ids_artist_inv_ge[artist_raw['artist']['id']].lower(),  artist_raw['artist']['name'].lower())) + ': ' + ids_artist_inv_ge[artist_raw['artist']['id']].lower() + ' - ' +  artist_raw['artist']['name'].lower())\n",
    "        \n",
    "sqlData.save()"
   ]
  },
  {
   "cell_type": "markdown",
   "id": "c3df069b",
   "metadata": {},
   "source": [
    "## 7. Genius Songs"
   ]
  },
  {
   "cell_type": "code",
   "execution_count": 11,
   "id": "34dac439",
   "metadata": {},
   "outputs": [],
   "source": [
    "genius_songs = json.load(open('../../Datasets/genius_json.json', encoding=\"utf8\"))\n",
    "\n",
    "for song_raw in genius_songs:\n",
    "    if ids_inv_ge.get(song_raw['id'], '') != '':\n",
    "        if similar(ids_inv_ge[song_raw['id']]['trackName'].lower(), song_raw['title'].lower()) > 0.5:\n",
    "            music = {\n",
    "                'title': formatName(ids_inv_ge[song_raw['id']]['trackName']),\n",
    "                'music_genius_id': song_raw['id'],\n",
    "                'lyrics': formatName(song_raw['lyrics']),\n",
    "                \n",
    "            }\n",
    "            music_id = Music.getMusicId(music)\n",
    "            music['music_id'] = music_id\n",
    "            Music.updateMusic(music)\n",
    "#         else:\n",
    "#             print(str(similar(ids_inv_ge[song_raw['id']]['trackName'].lower(),  song_raw['title'].lower())) + ': ' + ids_inv_ge[song_raw['id']]['trackName'].lower() + ' - ' +  song_raw['title'].lower())\n",
    "sqlData.save()"
   ]
  },
  {
   "cell_type": "code",
   "execution_count": 12,
   "id": "a4556a77",
   "metadata": {},
   "outputs": [
    {
     "name": "stdout",
     "output_type": "stream",
     "text": [
      "Done!\n"
     ]
    }
   ],
   "source": [
    "# Save everything else remaining\n",
    "sqlData.save()\n",
    "\n",
    "## Commit changes\n",
    "SQLConn.instance().conn.commit()\n",
    "print('Done!')"
   ]
  },
  {
   "cell_type": "code",
   "execution_count": null,
   "id": "4e29c1aa",
   "metadata": {},
   "outputs": [],
   "source": []
  }
 ],
 "metadata": {
  "kernelspec": {
   "display_name": "Python 3 (ipykernel)",
   "language": "python",
   "name": "python3"
  },
  "language_info": {
   "codemirror_mode": {
    "name": "ipython",
    "version": 3
   },
   "file_extension": ".py",
   "mimetype": "text/x-python",
   "name": "python",
   "nbconvert_exporter": "python",
   "pygments_lexer": "ipython3",
   "version": "3.9.1"
  }
 },
 "nbformat": 4,
 "nbformat_minor": 5
}
